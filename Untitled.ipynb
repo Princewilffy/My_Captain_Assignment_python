{
 "cells": [
  {
   "cell_type": "code",
   "execution_count": 1,
   "metadata": {},
   "outputs": [],
   "source": [
    "# program to perform arithmetic operators"
   ]
  },
  {
   "cell_type": "code",
   "execution_count": 2,
   "metadata": {},
   "outputs": [
    {
     "name": "stdout",
     "output_type": "stream",
     "text": [
      "enter a value of a:10\n",
      "enter a value of b:20\n",
      "value of A= 10\n",
      "Value of B= 20\n",
      "addition result= 30\n",
      "Subraction Value = -10\n",
      "Multipication Value = 200\n",
      "Reminder result = 10\n",
      "Division result = 0.5\n",
      "Exponential result =  100000000000000000000\n",
      "Floor division result = -1\n"
     ]
    }
   ],
   "source": [
    "a =int(input(\"enter a value of a:\"))\n",
    "b =int(input(\"enter a value of b:\"))\n",
    "print(\"value of A=\",a)\n",
    "print(\"Value of B=\",b)\n",
    "c=a+b\n",
    "print(\"addition result=\",c)\n",
    "c=a-b\n",
    "print(\"Subraction Value =\",c)\n",
    "c=a*b\n",
    "print(\"Multipication Value =\",c)\n",
    "c=a%b\n",
    "print(\"Reminder result =\",c)\n",
    "c=a/b\n",
    "print(\"Division result =\",c)\n",
    "c=a**b\n",
    "print(\"Exponential result = \",c)\n",
    "c=(-a)//b\n",
    "print(\"Floor division result =\",c )"
   ]
  },
  {
   "cell_type": "code",
   "execution_count": null,
   "metadata": {},
   "outputs": [],
   "source": []
  }
 ],
 "metadata": {
  "kernelspec": {
   "display_name": "Python 3 (ipykernel)",
   "language": "python",
   "name": "python3"
  },
  "language_info": {
   "codemirror_mode": {
    "name": "ipython",
    "version": 3
   },
   "file_extension": ".py",
   "mimetype": "text/x-python",
   "name": "python",
   "nbconvert_exporter": "python",
   "pygments_lexer": "ipython3",
   "version": "3.9.10+"
  }
 },
 "nbformat": 4,
 "nbformat_minor": 2
}
