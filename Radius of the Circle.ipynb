{
 "cells": [
  {
   "cell_type": "code",
   "execution_count": 1,
   "id": "ad0057be",
   "metadata": {},
   "outputs": [
    {
     "name": "stdout",
     "output_type": "stream",
     "text": [
      "Enter the area of the circle :1.1\n",
      "Radius of the Circle: 3.45576\n",
      "Area 1.1\n"
     ]
    }
   ],
   "source": [
    "'''Task 1\n",
    "To find the radius of the circle\n",
    "'''\n",
    "a=float(input(\"Enter the area of the circle :\"))\n",
    "b=3.1416*a\n",
    "print(\"Radius of the Circle:\",b)\n",
    "print(\"Area\",a)"
   ]
  },
  {
   "cell_type": "code",
   "execution_count": null,
   "id": "932df7bb",
   "metadata": {},
   "outputs": [],
   "source": []
  }
 ],
 "metadata": {
  "kernelspec": {
   "display_name": "Python 3 (ipykernel)",
   "language": "python",
   "name": "python3"
  },
  "language_info": {
   "codemirror_mode": {
    "name": "ipython",
    "version": 3
   },
   "file_extension": ".py",
   "mimetype": "text/x-python",
   "name": "python",
   "nbconvert_exporter": "python",
   "pygments_lexer": "ipython3",
   "version": "3.9.12"
  }
 },
 "nbformat": 4,
 "nbformat_minor": 5
}
